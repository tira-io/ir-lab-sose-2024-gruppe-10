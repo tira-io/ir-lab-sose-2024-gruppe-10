{
 "cells": [
  {
   "cell_type": "markdown",
   "metadata": {},
   "source": [
    "Hier läuft dann unser fertiges Retrieval System"
   ]
  },
  {
   "cell_type": "code",
   "execution_count": null,
   "metadata": {},
   "outputs": [],
   "source": [
    "!pip3 install tira ir-datasets python-terrier\n",
    "\n",
    "from tira.third_party_integrations import ensure_pyterrier_is_loaded, persist_and_normalize_run\n",
    "from tira.rest_api_client import Client\n",
    "import pyterrier as pt\n",
    "\n",
    "ensure_pyterrier_is_loaded()\n",
    "tira = Client()\n",
    "\n",
    "pt_dataset = pt.get_dataset('irds:ir-lab-sose-2024/ir-acl-anthology-20240504-training')"
   ]
  },
  {
   "cell_type": "code",
   "execution_count": null,
   "metadata": {},
   "outputs": [],
   "source": [
    "index = tira.pt.index('ir-lab-sose-2024/tira-ir-starter/Index (tira-ir-starter-pyterrier)', pt_dataset)\n",
    "topics = pt_dataset.get_topics('text')\n",
    "bm25 = pt.BatchRetrieve(index, wmodel=\"BM25\", properties={\"termpipelines\" : \"Stopwords,PorterStemmer\"}) >> pt.pipelines.PerQueryMaxMinScoreTransformer()\n",
    "tfidf = pt.BatchRetrieve(index, wmodel=\"TF_IDF\", properties={\"termpipelines\" : \"Stopwords,PorterStemmer\"}) >> pt.pipelines.PerQueryMaxMinScoreTransformer()\n",
    "\n",
    "linear = 0.25 * bm25 + 0.75 * tfidf\n",
    "\n",
    "run=linear(topics)\n",
    "persist_and_normalize_run(run, system_name='retrieval_system', default_output='../runs')\n",
    "print (run.head(10))"
   ]
  },
  {
   "cell_type": "code",
   "execution_count": 12,
   "metadata": {},
   "outputs": [
    {
     "name": "stdout",
     "output_type": "stream",
     "text": [
      "  qid     docid                               docno     score  \\\n",
      "0   1   94858.0        2004.cikm_conference-2004.47  1.000000   \n",
      "1   1  125137.0   1989.ipm_journal-ir0volumeA25A4.2  0.769343   \n",
      "2   1  125817.0  2005.ipm_journal-ir0volumeA41A5.11  0.748299   \n",
      "3   1    5868.0                            W05-0704  0.734252   \n",
      "4   1   84876.0       2016.ntcir_conference-2016.90  0.718073   \n",
      "\n",
      "                                      query  rank  \n",
      "0  retrieval system improving effectiveness     0  \n",
      "1  retrieval system improving effectiveness     1  \n",
      "2  retrieval system improving effectiveness     2  \n",
      "3  retrieval system improving effectiveness     3  \n",
      "4  retrieval system improving effectiveness     4  \n"
     ]
    }
   ],
   "source": [
    "\"cell for tests:\"\n",
    "bm25 = pt.BatchRetrieve(index, wmodel=\"BM25\", properties={\"termpipelines\" : \"Stopwords,PorterStemmer\"}) >> pt.pipelines.PerQueryMaxMinScoreTransformer()\n",
    "dph = pt.BatchRetrieve(index, wmodel=\"DPH\", properties={\"termpipelines\" : \"Stopwords,PorterStemmer\"}) >> pt.pipelines.PerQueryMaxMinScoreTransformer()\n",
    "linear = 0.75 * bm25 + 0.25 * dph\n",
    "run=linear(topics)\n",
    "print (run.head(5))\n",
    "\n"
   ]
  }
 ],
 "metadata": {
  "kernelspec": {
   "display_name": "Python 3",
   "language": "python",
   "name": "python3"
  },
  "language_info": {
   "codemirror_mode": {
    "name": "ipython",
    "version": 3
   },
   "file_extension": ".py",
   "mimetype": "text/x-python",
   "name": "python",
   "nbconvert_exporter": "python",
   "pygments_lexer": "ipython3",
   "version": "3.10.12"
  }
 },
 "nbformat": 4,
 "nbformat_minor": 2
}
