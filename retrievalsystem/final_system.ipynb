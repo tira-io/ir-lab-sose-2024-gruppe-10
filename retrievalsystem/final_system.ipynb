{
 "cells": [
  {
   "cell_type": "markdown",
   "metadata": {},
   "source": [
    "Hier läuft dann unser fertiges Retrieval System"
   ]
  },
  {
   "cell_type": "code",
   "execution_count": null,
   "metadata": {},
   "outputs": [],
   "source": [
    "!pip3 install tira ir-datasets python-terrier\n",
    "\n",
    "from tira.third_party_integrations import ensure_pyterrier_is_loaded, persist_and_normalize_run\n",
    "from tira.rest_api_client import Client\n",
    "import pyterrier as pt\n",
    "\n",
    "ensure_pyterrier_is_loaded()\n",
    "tira = Client()\n",
    "\n",
    "pt_dataset = pt.get_dataset('irds:ir-lab-sose-2024/ir-acl-anthology-20240504-training')"
   ]
  },
  {
   "cell_type": "code",
   "execution_count": null,
   "metadata": {},
   "outputs": [],
   "source": [
    "index = tira.pt.index('ir-lab-sose-2024/tira-ir-starter/Index (tira-ir-starter-pyterrier)', pt_dataset)\n",
    "topics = pt_dataset.get_topics('text')\n",
    "\n",
    "bm25 = pt.BatchRetrieve(index, wmodel=\"BM25\", properties={\"termpipelines\" : \"Stopwords,PorterStemmer\"}) >> pt.pipelines.PerQueryMaxMinScoreTransformer()\n",
    "dph = pt.BatchRetrieve(index, wmodel=\"DPH\", properties={\"termpipelines\" : \"Stopwords,PorterStemmer\"}) >> pt.pipelines.PerQueryMaxMinScoreTransformer()\n",
    "\n",
    "linear = 0.75 * bm25 + 0.25 * dph\n",
    "\n",
    "run=linear(topics)\n",
    "persist_and_normalize_run(run, system_name='retrieval_system', default_output='../runs')\n",
    "print (run.head(10))"
   ]
  },
  {
   "cell_type": "code",
   "execution_count": null,
   "metadata": {},
   "outputs": [],
   "source": [
    "\"\"\"\"cell for tests:\"\n",
    "bm25 = pt.BatchRetrieve(index, wmodel=\"BM25\", properties={\"termpipelines\" : \"Stopwords,PorterStemmer\"}) >> pt.pipelines.PerQueryMaxMinScoreTransformer()\n",
    "dph = pt.BatchRetrieve(index, wmodel=\"DPH\", properties={\"termpipelines\" : \"Stopwords,PorterStemmer\"}) >> pt.pipelines.PerQueryMaxMinScoreTransformer()\n",
    "linear = 0.75 * bm25 + 0.25 * dph\n",
    "run=linear(topics)\n",
    "print (run.head(5))\"\"\""
   ]
  }
 ],
 "metadata": {
  "kernelspec": {
   "display_name": "Python 3",
   "language": "python",
   "name": "python3"
  },
  "language_info": {
   "codemirror_mode": {
    "name": "ipython",
    "version": 3
   },
   "file_extension": ".py",
   "mimetype": "text/x-python",
   "name": "python",
   "nbconvert_exporter": "python",
   "pygments_lexer": "ipython3",
   "version": "3.10.12"
  }
 },
 "nbformat": 4,
 "nbformat_minor": 2
}
