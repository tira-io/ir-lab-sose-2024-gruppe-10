{
 "cells": [
  {
   "cell_type": "markdown",
   "metadata": {},
   "source": [
    "# Information Retrieval Lab: Basic Retrieval"
   ]
  },
  {
   "cell_type": "markdown",
   "metadata": {},
   "source": [
    "In this exercise, we will implement a basic retrieval model. While we already answered some questions using term statistics in the indexing exercise, this lab introduces the concept of a relevance function: a way of quantifying the relevance between a query (expressing a users information need) and a document (potentially fulfilling an information need). "
   ]
  },
  {
   "cell_type": "markdown",
   "metadata": {},
   "source": [
    "## Lecture Recall\n",
    "\n",
    "First, recall some important concepts from the lecture: *indexing*, *term weighting*, *document representations*, *query* and *query representations*.\n",
    "\n",
    "###### Indexing\n",
    "> Gather and store auxiliary information about documents, required for fast online query processing (i.e., to score and rank documents when a query is submitted). Such information may include term frequencies, document frequencies, document lengths, ... The data structure used is a key-value store (i.e., a hash map).\n",
    "\n",
    "###### Term Weighting\n",
    "> For each index term of a document, calculate a weight indicating its importance with respect to the document, allowing for document scoring with respect to a query. Common term weighting schemes are term-frequency (tf), term-frequency-inverse-document-frequency (tfidf), BM25, ...\n",
    "\n",
    "###### Document representations\n",
    "> The representation of a document $d$ is a $|T|$-dimensional vector, where the $i$-th vector component of $d$ corresponds to a term weight $w_i$ of term $t_i \\in T$, indicating its importance for $d$. \n",
    "\n",
    "###### Query\n",
    "> A inquiry string expressing a users information need, either in natural or in a specialized query language.\n",
    "\n",
    "###### Query representations\n",
    "> A query representation $q$ is constructed like a document representation, but for a user-supplied query instead of a document."
   ]
  },
  {
   "cell_type": "markdown",
   "metadata": {},
   "source": [
    "## Setup\n",
    "\n",
    "To implement a scoring model, we first import existing code from the previous exercises. We will make use of the Shakespeare document collection, the preprocessing component and the index. We supply a reference solution you can import, but feel free to continue using your own code!"
   ]
  },
  {
   "cell_type": "markdown",
   "metadata": {},
   "source": [
    "**Exercise**: using the code from previous exercises, construct an index on top of the Shakespeare document collection."
   ]
  },
  {
   "cell_type": "code",
   "execution_count": 1,
   "metadata": {
    "collapsed": false,
    "jupyter": {
     "outputs_hidden": false
    },
    "pycharm": {
     "name": "#%%\n"
    }
   },
   "outputs": [],
   "source": [
    "from modules.shakespeare import corpus\n",
    "from modules.preprocessing import PreprocessorSpacy as Preprocessor\n",
    "from modules.indexing import Index\n",
    "\n",
    "preprocessor = Preprocessor()\n",
    "corpus_preprocessed = list(zip(\n",
    "    [doc[0] for doc in corpus],\n",
    "    map(preprocessor.preprocess, [doc[1] for doc in corpus])\n",
    "))\n",
    "\n",
    "corpus_preprocessed[5]\n",
    "\n",
    "index = Index(corpus_preprocessed)"
   ]
  },
  {
   "cell_type": "markdown",
   "metadata": {},
   "source": [
    "## Term Weighting"
   ]
  },
  {
   "cell_type": "markdown",
   "metadata": {},
   "source": [
    "To compute document representations, we first need to implement term weighting. For the purposes of this exercise, we choose the term-frequency-inverse-document-frequency (TFIDF) weighting scheme, given by the following equation: $ tfidf = tf \\cdot idf $, where $tf(t,d)$ is the *normalized* term frequency, denoting the importance of a term $t$ in document $d$, and $ idf(t, D) = \\log\\frac{|D|}{df(t,d)}$ is the inverse document frequency, denoting the importance of term $t$ in general.\n",
    "\n",
    "Note that different approaches to normalizing the term frequency exist. For this exercise, we use the following normalization:\n",
    "\n",
    "$$1 + \\log(\\text{tf}(t,d))\\text{ for tf}(t,d)> 0$$\n",
    "\n",
    "**Exercise:** implement the tfidf term weighting function."
   ]
  },
  {
   "cell_type": "code",
   "execution_count": 2,
   "metadata": {
    "tags": []
   },
   "outputs": [],
   "source": [
    "from math import log\n",
    "\n",
    "def tfidf(term_frequency: int, document_frequency: int, document_count: int) -> float:\n",
    "    \"\"\"\n",
    "    Term-frequency-inverted-document-frequency, which calculates the tfidf for a given term frequency, document frequency and document count.\n",
    "    :param term_frequency: The frequency of the term in the document.\n",
    "    :param document_frequency:\n",
    "    :param document_count:\n",
    "    :returns: tfidf for the word and the argument, 0 if not present.\n",
    "    \"\"\"\n",
    "    if term_frequency == 0:\n",
    "        return 0\n",
    "    else:\n",
    "        tf = 1 + log(term_frequency)\n",
    "        idf = log(document_count/document_frequency)\n",
    "        return tf * idf\n"
   ]
  },
  {
   "cell_type": "markdown",
   "metadata": {
    "pycharm": {
     "name": "#%% md\n"
    }
   },
   "source": [
    "## Document Representation\n",
    "\n",
    "The representation $d$ of a document $D$ is a $|T|$-dimensional vector, where the i-th vector component of $D$ corresponds to a term weight $w_i$ of term $t_i \\in T$, indicating its importance for $D$.\n",
    "\n",
    "We will use the previously defined TFIDF score as term weight: $w_i = tfidf(t_i, D)$.\n",
    "\n",
    "**Exercise:** implement a function to generate a TFIDF-vector representation for a given document id, based on the the information available in the index. For the purposes of this exercise, implement vectors as lists. Make sure to keep dimensionality between documents, i.e. the same vector dimension should always correspond to the same index term!"
   ]
  },
  {
   "cell_type": "code",
   "execution_count": 3,
   "metadata": {
    "collapsed": false,
    "jupyter": {
     "outputs_hidden": false
    },
    "pycharm": {
     "name": "#%%\n"
    }
   },
   "outputs": [],
   "source": [
    "def get_document_representation(doc_id, index):\n",
    "    \"\"\"\n",
    "    Returns the tfidf vector for a given doc_id and index\n",
    "    :param doc_id: doc_id to construct the vector for\n",
    "    :param index: index to construct the vector from\n",
    "    :return: the tfidf vector for this document\n",
    "    \"\"\"\n",
    "    vec = []\n",
    "    for term in sorted(index.get_index_terms()):\n",
    "        vec.append(tfidf(\n",
    "            index.get_term_frequency(term, doc_id),\n",
    "            index.get_document_frequency(term),\n",
    "            index.get_document_count()\n",
    "        ))\n",
    "    return vec"
   ]
  },
  {
   "cell_type": "markdown",
   "metadata": {
    "pycharm": {
     "name": "#%% md\n"
    }
   },
   "source": [
    "## Query Representation\n",
    "\n",
    "To retrieve similar documents to a given query, we need to project the query into the same vector space as our document representations.\n",
    "\n",
    "The query representation is constructed in a similar way to document representations, using the term data stored in the index.\n",
    "However, we calculate the term frequency manually, since a text query, not a document, is indexed. Keep in mind that the query needs to be processed in exactly the same ways as documents, i.e. have the same preprocessing applied. \n",
    "\n",
    "**Exercise:** implement a function to generate a TFIDF-vector representation for a text string, based on the the information available in the index. For the purposes of this exercise, implement vectors as lists. Make sure to keep dimensionality between documents, i.e. the same vector dimension should always correspond to the same index term!"
   ]
  },
  {
   "cell_type": "code",
   "execution_count": 4,
   "metadata": {
    "collapsed": false,
    "jupyter": {
     "outputs_hidden": false
    },
    "pycharm": {
     "name": "#%%\n"
    }
   },
   "outputs": [],
   "source": [
    "def get_query_representation(text, index):\n",
    "    \"\"\"\n",
    "    Returns the tfidf vector for an arbitrary string. \n",
    "    :param text: string to construct the vector for\n",
    "    :param index: index to construct the vector from\n",
    "    :return: the tfidf vector for the string\n",
    "    \"\"\"\n",
    "    query_terms = preprocessor.preprocess(text)\n",
    "    term_frequencies = {term: query_terms.count(term) for term in query_terms}\n",
    "    vec = []\n",
    "    for term in sorted(index.get_index_terms()):\n",
    "        vec.append(tfidf(\n",
    "            term_frequencies.get(term, 0),\n",
    "            index.get_document_frequency(term),\n",
    "            index.get_document_count()\n",
    "        ))\n",
    "    return vec"
   ]
  },
  {
   "cell_type": "markdown",
   "metadata": {
    "pycharm": {
     "name": "#%% md\n"
    }
   },
   "source": [
    "## Relevance Function\n",
    "\n",
    "Now that we have a way to embed both documents and the query into a common vector space, we can rank documents according to a similarity function with respect to the query."
   ]
  },
  {
   "cell_type": "markdown",
   "metadata": {
    "pycharm": {
     "name": "#%% md\n"
    }
   },
   "source": [
    "#### Building the Vector Space\n",
    "To retrieve documents, we need to build a vector space, i.e. construct the representation vector for every document in our collection.\n",
    "\n",
    "\n",
    "**Exercise:** construct a vector space for all documents in the index using their document representations. Use a `{doc_id: vector, ...}` dictionary as data structure."
   ]
  },
  {
   "cell_type": "code",
   "execution_count": 5,
   "metadata": {
    "pycharm": {
     "name": "#%%\n"
    },
    "tags": []
   },
   "outputs": [],
   "source": [
    "vectors = {}\n",
    "\n",
    "for doc_id in index.get_document_ids():\n",
    "    vectors[doc_id] = get_document_representation(doc_id, index)"
   ]
  },
  {
   "cell_type": "markdown",
   "metadata": {},
   "source": [
    "#### Defining similarity\n",
    "\n",
    "To calculate the similarity score between the query and each document, we need to define a similarity function. We will use cosine similarity.\n",
    "\n",
    "**Exercise:** implement cosine similarity. (Be mindful of the difference between *distance* and *similarity*!)"
   ]
  },
  {
   "cell_type": "code",
   "execution_count": 6,
   "metadata": {
    "collapsed": false,
    "jupyter": {
     "outputs_hidden": false
    },
    "pycharm": {
     "name": "#%%\n"
    }
   },
   "outputs": [],
   "source": [
    "from math import sqrt, pow\n",
    "\n",
    "def score(vec_a, vec_b):\n",
    "    def dot(vec_a, vec_b):\n",
    "        # Dot product of two vectors\n",
    "        return sum(map(lambda x: x[0]*x[1], zip(vec_a, vec_b)))\n",
    "\n",
    "    def norm(vec):\n",
    "        # Euclidean norm of a vector\n",
    "        return sqrt(sum(map(lambda x: pow(x, 2), vec)))\n",
    "\n",
    "    def cosine_sim(vec_a, vec_b):\n",
    "        # Cosine similarity of two vectors\n",
    "        try:\n",
    "            return (dot(vec_a, vec_b)/(norm(vec_a)*norm(vec_b)))\n",
    "        except ZeroDivisionError:\n",
    "            return 0\n",
    "        \n",
    "    return cosine_sim(vec_a, vec_b)"
   ]
  },
  {
   "cell_type": "markdown",
   "metadata": {},
   "source": [
    "#### Querying\n",
    "\n",
    "We now have all the components needed to answer queries. Write a wrapper function that takes a text and returns the (top $k$) results for the query. It construct a query representation and calculate the pairwise similarity between the query and all documents, returning an ordered list of `(doc_id, score)` tuples, descending by score.\n",
    "\n",
    "**Exercise:** write a function to query the vector space."
   ]
  },
  {
   "cell_type": "code",
   "execution_count": 7,
   "metadata": {
    "pycharm": {
     "name": "#%%\n"
    },
    "tags": []
   },
   "outputs": [],
   "source": [
    "def query(text, vectors, index, topK=-1):\n",
    "    \"\"\"\n",
    "    Queries a given text against a given vector space. Embeds the query text and calculates the cosine similarity to every document in the vector space.\n",
    "    :param text: query text\n",
    "    :param vectors: list of document vectors to query against\n",
    "    :param index: the index data to query against\n",
    "    :param topK: number of top results to return\n",
    "    :return: list of (doc_id, score) tuples descending by score for all documents in the vector space\n",
    "    \"\"\"\n",
    "    query_vec = get_query_representation(text, index)\n",
    "    scores = {}\n",
    "    for doc_id, doc_vec in vectors.items():\n",
    "        scores[doc_id] = score(doc_vec, query_vec)\n",
    "        \n",
    "    return sorted(scores.items(), key=lambda item: item[1], reverse=True)[:topK]"
   ]
  },
  {
   "cell_type": "markdown",
   "metadata": {},
   "source": [
    "# Simple Retrieval\n",
    "You can now try out different queries. There are two example searchers below, but try and search for anything you like. Take a look at both the ranking results as well as the original documents; try to trace why certain documents appear in the order they are in given their TFIDF similarity."
   ]
  },
  {
   "cell_type": "code",
   "execution_count": 8,
   "metadata": {},
   "outputs": [
    {
     "data": {
      "text/plain": [
       "[('Romeo and Juliet', 0.19370888618699222),\n",
       " ('Henry IV, Part II', 0.04532408825317537),\n",
       " ('Henry VI, Part I', 0.0),\n",
       " ('Timon of Athens', 0.0),\n",
       " ('Antony and Cleopatra', 0.0)]"
      ]
     },
     "execution_count": 8,
     "metadata": {},
     "output_type": "execute_result"
    }
   ],
   "source": [
    "query(\"two households verona\", vectors, index, topK=5)"
   ]
  },
  {
   "cell_type": "code",
   "execution_count": 9,
   "metadata": {},
   "outputs": [
    {
     "data": {
      "text/plain": [
       "[('Passionate Pilgrim', 0.28253619196580304),\n",
       " ('Two Gentlemen of Verona', 0.22471931574655718),\n",
       " ('Twelfth Night', 0.13726372664629935),\n",
       " ('Timon of Athens', 0.11891302011429873),\n",
       " ('Romeo and Juliet', 0.07777035257918241)]"
      ]
     },
     "execution_count": 9,
     "metadata": {},
     "output_type": "execute_result"
    }
   ],
   "source": [
    "query(\"love\", vectors, index, topK=5)"
   ]
  }
 ],
 "metadata": {
  "kernelspec": {
   "display_name": "Python 3",
   "language": "python",
   "name": "python3"
  },
  "language_info": {
   "codemirror_mode": {
    "name": "ipython",
    "version": 3
   },
   "file_extension": ".py",
   "mimetype": "text/x-python",
   "name": "python",
   "nbconvert_exporter": "python",
   "pygments_lexer": "ipython3",
   "version": "3.9.5"
  }
 },
 "nbformat": 4,
 "nbformat_minor": 4
}
